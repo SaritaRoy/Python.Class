{
  "nbformat": 4,
  "nbformat_minor": 0,
  "metadata": {
    "colab": {
      "provenance": [],
      "authorship_tag": "ABX9TyME9jXa24Ofv0Yn2BsC1g35",
      "include_colab_link": true
    },
    "kernelspec": {
      "name": "python3",
      "display_name": "Python 3"
    },
    "language_info": {
      "name": "python"
    }
  },
  "cells": [
    {
      "cell_type": "markdown",
      "metadata": {
        "id": "view-in-github",
        "colab_type": "text"
      },
      "source": [
        "<a href=\"https://colab.research.google.com/github/SaritaRoy/Python.Class/blob/main/Pythonassignment2_ipy.ipynb\" target=\"_parent\"><img src=\"https://colab.research.google.com/assets/colab-badge.svg\" alt=\"Open In Colab\"/></a>"
      ]
    },
    {
      "cell_type": "code",
      "execution_count": null,
      "metadata": {
        "id": "gSzyH7wAuuSD",
        "colab": {
          "base_uri": "https://localhost:8080/"
        },
        "outputId": "24566ed2-dd86-436c-9bc3-392af0ce485d"
      },
      "outputs": [
        {
          "output_type": "stream",
          "name": "stdout",
          "text": [
            "Hello Alice\n",
            "Good Morning Bob\n"
          ]
        }
      ],
      "source": [
        "#Write a function greet that takes two arguments: name (a string) and greeting (a string with a default value of \"Hello\"). The function should return a greeting message.\n",
        "def greet(name, greeting=\"Hello\"):\n",
        "    return f\"{greeting} {name}\"\n",
        "\n",
        "print(greet(\"Alice\"))\n",
        "print(greet(\"Bob\", \"Good Morning\"))"
      ]
    },
    {
      "cell_type": "code",
      "source": [
        "#Create a function create_profile that takes arguments for name, age, and city as named arguments. The function should return a string like \"Name: Alice, Age: 25, City: New York\". Ensure that the age argument has a default value of 18.\n",
        "def create_profile(name, city, age=18):\n",
        "    return f\"Name: {name}, Age: {age}, City: {city}\"\n",
        "\n",
        "print(create_profile(name=\"John\", city=\"Chicago\"))\n",
        "print(create_profile(name=\"Emma\", age=22, city=\"Los Angeles\"))\n"
      ],
      "metadata": {
        "id": "UV0QTwiG6NNI",
        "colab": {
          "base_uri": "https://localhost:8080/"
        },
        "outputId": "3e228432-1ae9-4f40-a3d5-7ddb0923a754"
      },
      "execution_count": null,
      "outputs": [
        {
          "output_type": "stream",
          "name": "stdout",
          "text": [
            "Name: John, Age: 18, City: Chicago\n",
            "Name: Emma, Age: 22, City: Los Angeles\n"
          ]
        }
      ]
    },
    {
      "cell_type": "code",
      "source": [
        "#Write a function sum_numbers that takes any number of positional arguments (args) and keyword arguments (*kwargs). It should:\n",
        "def sum_numbers(*args, **kwargs):\n",
        "    sum_args = sum(arg for arg in args if isinstance(arg, (int, float)))\n",
        "    return (sum_args, kwargs) if kwargs else sum_args\n",
        "\n",
        "print(sum_numbers(1, 2, 3))\n",
        "print(sum_numbers(1, 2, x=4, y=5))"
      ],
      "metadata": {
        "colab": {
          "base_uri": "https://localhost:8080/"
        },
        "id": "zOYPMsDZEk5Y",
        "outputId": "0c969c47-18b1-4956-dcb4-1d39b3692023"
      },
      "execution_count": null,
      "outputs": [
        {
          "output_type": "stream",
          "name": "stdout",
          "text": [
            "6\n",
            "(3, {'x': 4, 'y': 5})\n"
          ]
        }
      ]
    },
    {
      "cell_type": "code",
      "source": [
        "#Write a function that uses map and a lambda to return a list where each element is squared.\n",
        "def square_list(numbers):\n",
        "    return list(map(lambda x: x**2, numbers))\n",
        "\n",
        "print(square_list([1, 2, 3, 4]))"
      ],
      "metadata": {
        "colab": {
          "base_uri": "https://localhost:8080/"
        },
        "id": "d4DvqngKEoHT",
        "outputId": "139adff0-4e18-47bd-c33e-13e34354035b"
      },
      "execution_count": null,
      "outputs": [
        {
          "output_type": "stream",
          "name": "stdout",
          "text": [
            "[1, 4, 9, 16]\n"
          ]
        }
      ]
    },
    {
      "cell_type": "code",
      "source": [
        "#Filter and Lambdas\n",
        "def filter_odd_numbers(numbers):\n",
        "    return list(filter(lambda x: x % 2 == 0, numbers))\n",
        "\n",
        "print(filter_odd_numbers([1, 2, 3, 4, 5]))\n"
      ],
      "metadata": {
        "colab": {
          "base_uri": "https://localhost:8080/"
        },
        "id": "7-62QnzRErMG",
        "outputId": "252b747c-f64b-4af8-ad45-3614b97b8a58"
      },
      "execution_count": null,
      "outputs": [
        {
          "output_type": "stream",
          "name": "stdout",
          "text": [
            "[2, 4]\n"
          ]
        }
      ]
    },
    {
      "cell_type": "code",
      "source": [
        "#Basic List Comprehension\n",
        "squares = [x**2 for x in range(5)]\n",
        "print(squares)"
      ],
      "metadata": {
        "colab": {
          "base_uri": "https://localhost:8080/"
        },
        "id": "xa155D24Et7g",
        "outputId": "69828849-e663-4b57-98ae-a221fedb8e23"
      },
      "execution_count": null,
      "outputs": [
        {
          "output_type": "stream",
          "name": "stdout",
          "text": [
            "[0, 1, 4, 9, 16]\n"
          ]
        }
      ]
    },
    {
      "cell_type": "code",
      "source": [
        "#List Comprehension with Condition\n",
        "even_numbers = [x for x in range(1, 21) if x % 2 == 0]\n",
        "print(even_numbers)"
      ],
      "metadata": {
        "colab": {
          "base_uri": "https://localhost:8080/"
        },
        "id": "chCPBheTExAl",
        "outputId": "2ec04d9d-f0b1-4d24-ce4a-a48822ea51e3"
      },
      "execution_count": null,
      "outputs": [
        {
          "output_type": "stream",
          "name": "stdout",
          "text": [
            "[2, 4, 6, 8, 10, 12, 14, 16, 18, 20]\n"
          ]
        }
      ]
    },
    {
      "cell_type": "code",
      "source": [
        "#Using os and time Modules:\n",
        "import os\n",
        "import time\n",
        "\n",
        "def file_operations():\n",
        "    os.makedirs(\"test_folder\", exist_ok=True)\n",
        "    print(\"Created 'test_folder'\")\n",
        "\n",
        "    print(\"Pausing for 3 seconds...\")\n",
        "    time.sleep(3)\n",
        "\n",
        "    os.rmdir(\"test_folder\")\n",
        "    print(\"Deleted 'test_folder'\")\n",
        "\n",
        "file_operations()"
      ],
      "metadata": {
        "colab": {
          "base_uri": "https://localhost:8080/"
        },
        "id": "bVd1IxqiE0Gf",
        "outputId": "cede68ae-6ef1-4413-a639-99bbd4fea05a"
      },
      "execution_count": null,
      "outputs": [
        {
          "output_type": "stream",
          "name": "stdout",
          "text": [
            "Created 'test_folder'\n",
            "Pausing for 3 seconds...\n",
            "Deleted 'test_folder'\n"
          ]
        }
      ]
    },
    {
      "cell_type": "code",
      "source": [
        "#Importing Specific Functions:\n",
        "from time import sleep as pause\n",
        "\n",
        "pause(2)\n",
        "print(\"Paused execution...\")\n"
      ],
      "metadata": {
        "colab": {
          "base_uri": "https://localhost:8080/"
        },
        "id": "OAsZIIPkE20W",
        "outputId": "c7fe432e-53ea-4035-b544-c5f43d7b6f4f"
      },
      "execution_count": null,
      "outputs": [
        {
          "output_type": "stream",
          "name": "stdout",
          "text": [
            "Paused execution...\n"
          ]
        }
      ]
    },
    {
      "cell_type": "code",
      "source": [
        "#Recursive Function with *args and **kwargs (Flattening a List):\n",
        "def flatten_list(*args):\n",
        "    flat_list = []\n",
        "    for arg in args:\n",
        "        if isinstance(arg, (list, tuple)):\n",
        "            flat_list.extend(flatten_list(*arg))\n",
        "        else:\n",
        "            flat_list.append(arg)\n",
        "    return flat_list\n",
        "\n",
        "print(flatten_list([1, [2, 3], [[4, 5], 6]]))\n",
        "print(flatten_list([[1, 2], [3, [4, [5]]]]))"
      ],
      "metadata": {
        "id": "wWNn7ewgE55t",
        "outputId": "f01e5a4f-a64c-4ce0-cd6c-6cabb2697614",
        "colab": {
          "base_uri": "https://localhost:8080/"
        }
      },
      "execution_count": null,
      "outputs": [
        {
          "output_type": "stream",
          "name": "stdout",
          "text": [
            "[1, 2, 3, 4, 5, 6]\n",
            "[1, 2, 3, 4, 5]\n"
          ]
        }
      ]
    }
  ]
}