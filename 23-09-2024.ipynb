{
 "cells": [
  {
   "cell_type": "code",
   "execution_count": 4,
   "id": "d68168d2-6112-4068-b9f8-d0bc61471732",
   "metadata": {},
   "outputs": [
    {
     "name": "stdout",
     "output_type": "stream",
     "text": [
      "File 'dummy.pdf' downloaded successfully.\n"
     ]
    }
   ],
   "source": [
    "import requests\n",
    "\n",
    "def download_file(url, file_name):\n",
    "    # Send a GET request to the provided URL\n",
    "    response = requests.get(url)\n",
    "    \n",
    "    # Check if the request was successful (status code 200)\n",
    "    if response.status_code == 200:\n",
    "        # Open a local file in binary write mode and save the content\n",
    "        with open(file_name, 'wb') as file:\n",
    "            file.write(response.content)\n",
    "        print(f\"File '{file_name}' downloaded successfully.\")\n",
    "    else:\n",
    "        print(f\"Failed to download file. Status code: {response.status_code}\")\n",
    "\n",
    "if __name__ == \"__main__\":\n",
    "    url = 'https://www.w3.org/WAI/ER/tests/xhtml/testfiles/resources/pdf/dummy.pdf'\n",
    "    file_name = 'dummy.pdf'\n",
    "    download_file(url, file_name)"
   ]
  },
  {
   "cell_type": "code",
   "execution_count": 5,
   "id": "a5aa9f7d-9ec2-4353-8d67-987aedee2cd1",
   "metadata": {},
   "outputs": [],
   "source": [
    "import tkinter as tk\n",
    "from tkinter import messagebox\n",
    "import requests\n",
    "\n",
    "def download_file():\n",
    "    url = url_entry.get()\n",
    "    file_name = file_name_entry.get()\n",
    "\n",
    "    try:\n",
    "        response = requests.get(url)\n",
    "        if response.status_code == 200:\n",
    "            with open(file_name, 'wb') as file:\n",
    "                file.write(response.content)\n",
    "            messagebox.showinfo(\"Success\", f\"File '{file_name}' downloaded successfully.\")\n",
    "        else:\n",
    "            messagebox.showerror(\"Error\", f\"Failed to download file. Status code: {response.status_code}\")\n",
    "    except Exception as e:\n",
    "        messagebox.showerror(\"Error\", f\"An error occurred: {str(e)}\")\n",
    "\n",
    "root = tk.Tk()\n",
    "root.title(\"File Downloader\")\n",
    "root.geometry(\"400x200\")\n",
    "\n",
    "url_label = tk.Label(root, text=\"Enter URL:\")\n",
    "url_label.pack(pady=5)\n",
    "url_entry = tk.Entry(root, width=50)\n",
    "url_entry.pack(pady=5)\n",
    "\n",
    "file_name_label = tk.Label(root, text=\"Enter file name:\")\n",
    "file_name_label.pack(pady=5)\n",
    "file_name_entry = tk.Entry(root, width=50)\n",
    "file_name_entry.pack(pady=5)\n",
    "\n",
    "download_button = tk.Button(root, text=\"Download\", command=download_file)\n",
    "download_button.pack(pady=20)\n",
    "\n",
    "root.mainloop()"
   ]
  },
  {
   "cell_type": "code",
   "execution_count": null,
   "id": "cdf44152-209f-4143-81e8-a7de1c9c4e8b",
   "metadata": {},
   "outputs": [],
   "source": []
  }
 ],
 "metadata": {
  "kernelspec": {
   "display_name": "Python 3 (ipykernel)",
   "language": "python",
   "name": "python3"
  },
  "language_info": {
   "codemirror_mode": {
    "name": "ipython",
    "version": 3
   },
   "file_extension": ".py",
   "mimetype": "text/x-python",
   "name": "python",
   "nbconvert_exporter": "python",
   "pygments_lexer": "ipython3",
   "version": "3.12.4"
  }
 },
 "nbformat": 4,
 "nbformat_minor": 5
}
