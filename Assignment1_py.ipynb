{
  "nbformat": 4,
  "nbformat_minor": 0,
  "metadata": {
    "colab": {
      "provenance": [],
      "authorship_tag": "ABX9TyMv+8DPLA28qrVB+RZl+7a0",
      "include_colab_link": true
    },
    "kernelspec": {
      "name": "python3",
      "display_name": "Python 3"
    },
    "language_info": {
      "name": "python"
    }
  },
  "cells": [
    {
      "cell_type": "markdown",
      "metadata": {
        "id": "view-in-github",
        "colab_type": "text"
      },
      "source": [
        "<a href=\"https://colab.research.google.com/github/SaritaRoy/Python.Class/blob/main/Assignment1_py.ipynb\" target=\"_parent\"><img src=\"https://colab.research.google.com/assets/colab-badge.svg\" alt=\"Open In Colab\"/></a>"
      ]
    },
    {
      "cell_type": "code",
      "source": [
        "#taking inputs from user as first and last name\n",
        "first_name = (input(\"Enter your First Name \"))\n",
        "last_name = (input(\"Enter your Last Name \"))\n",
        "#using string methods\n",
        "#capitalize()is used for capitalizing the first letter of string\n",
        "#strip() is used for removing the trial spaces\n",
        "\n",
        "first_name = first_name.capitalize()\n",
        "last_name = last_name.capitalize()\n",
        "print(last_name +\" \"+ first_name)"
      ],
      "metadata": {
        "colab": {
          "base_uri": "https://localhost:8080/"
        },
        "id": "z3KzA_virGy_",
        "outputId": "d18fa2ce-9be3-42cf-ec28-38d39b3fa772"
      },
      "execution_count": null,
      "outputs": [
        {
          "output_type": "stream",
          "name": "stdout",
          "text": [
            "Enter your First Name SARITA\n",
            "Enter your Last Name ROY\n",
            "Roy Sarita\n"
          ]
        }
      ]
    },
    {
      "cell_type": "code",
      "source": [
        "#convert a float first to handle decimal part\n",
        "#taking inputs from user\n",
        "user_input = input(\"Enter a number:\")\n",
        "\n",
        "#converting the input to the different numeric data types\n",
        "#int() converts the input to an integer\n",
        "\n",
        "int_value = int(float(user_input))\n",
        "#convert a float first to handle decimal part\n",
        "float_value = float(user_input)\n",
        "#complex() converts the input to a complex number\n",
        "complex_value = complex(user_input)\n",
        "#displaying the converted values\n",
        "print(f\"Integer value:{int_value}\")\n",
        "print(f\"Float value: {float_value}\")\n",
        "print(f\"Complex value :{complex_value}\")"
      ],
      "metadata": {
        "colab": {
          "base_uri": "https://localhost:8080/"
        },
        "id": "CB8iREY3rPVr",
        "outputId": "e1f4d501-0cb1-4cb0-e49a-b816148267c5"
      },
      "execution_count": null,
      "outputs": [
        {
          "output_type": "stream",
          "name": "stdout",
          "text": [
            "Enter a number:20\n",
            "Integer value:20\n",
            "Float value: 20.0\n",
            "Complex value :(20+0j)\n"
          ]
        }
      ]
    },
    {
      "cell_type": "code",
      "source": [
        "#taking inputs from user\n",
        "length=  int(input(\" Enter the length of rectangle: \"))\n",
        "breadth=  int(input(\" Enter the breadth of rectangle: \"))\n",
        "# calculating the area of rectangle\n",
        "area = length * breadth\n",
        "print (f\"the area of rectangle is :{area}\")"
      ],
      "metadata": {
        "colab": {
          "base_uri": "https://localhost:8080/"
        },
        "id": "HcHppHX4rVVT",
        "outputId": "ed927557-5d24-4887-d3bc-835ac69ee90a"
      },
      "execution_count": null,
      "outputs": [
        {
          "output_type": "stream",
          "name": "stdout",
          "text": [
            " Enter the length of rectangle: 16\n",
            " Enter the breadth of rectangle: 16\n",
            "the area of rectangle is :256\n"
          ]
        }
      ]
    },
    {
      "cell_type": "code",
      "source": [
        "# Prompt the user to enter the length and width of the rectangle\n",
        "length = int(input(\"Enter the length of the rectangle: \"))\n",
        "width = int(input(\"Enter the width of the rectangle: \"))\n",
        "\n",
        "# Calculate the area of the rectangle\n",
        "area = length * width\n",
        "\n",
        "# Display the result using the format method to show two decimal places\n",
        "print(\"The area of the rectangle is: {:.2f} square units\".format(area))"
      ],
      "metadata": {
        "colab": {
          "base_uri": "https://localhost:8080/"
        },
        "id": "1EgmUpcUrbV6",
        "outputId": "9cd8bdf8-da44-4c23-bc96-62cab9bc93bc"
      },
      "execution_count": null,
      "outputs": [
        {
          "output_type": "stream",
          "name": "stdout",
          "text": [
            "Enter the length of the rectangle: 4\n",
            "Enter the width of the rectangle: 6\n",
            "The area of the rectangle is: 24.00 square units\n"
          ]
        }
      ]
    },
    {
      "cell_type": "code",
      "source": [
        "#taking inputs from user\n",
        "num1= int (input(\"enter the number\"))\n",
        "num2 = int (input(\"enter the number\"))\n",
        "num3 = int(input(\"enter the number\"))\n",
        "#taking average of the number\n",
        "average= num1+num2+num3/3\n",
        "print(\"the average of three numbers are:\", average)"
      ],
      "metadata": {
        "colab": {
          "base_uri": "https://localhost:8080/"
        },
        "id": "YP1zdtV2riNH",
        "outputId": "89d3bdd1-b0d8-4966-e6a5-a5627cbbcf32"
      },
      "execution_count": null,
      "outputs": [
        {
          "output_type": "stream",
          "name": "stdout",
          "text": [
            "enter the number2\n",
            "enter the number5\n",
            "enter the number6\n",
            "the average of three numbers are: 9.0\n"
          ]
        }
      ]
    },
    {
      "cell_type": "code",
      "source": [
        "while True:\n",
        "    # Prompt the user for input\n",
        "    user_input = input(\"Enter a number (or type 'exit' to quit): \").lower()\n",
        "\n",
        "    # Check if the user wants to exit\n",
        "    if user_input == 'exit':\n",
        "        print(\"Exiting the program.\")\n",
        "        break  # Exit the loop if the input is 'exit'\n",
        "\n",
        "    try:\n",
        "        # Convert the input to a float for numeric comparison\n",
        "        number = float(user_input)\n",
        "\n",
        "        # Check if the number is positive, negative, or zero\n",
        "        if number > 0:\n",
        "            print(\"The number is positive.\")\n",
        "        elif number < 0:\n",
        "            print(\"The number is negative.\")\n",
        "        else:\n",
        "            print(\"The number is zero.\")\n",
        "    except ValueError:\n",
        "        # Handle cases where the input is not a valid number\n",
        "        print(\"Please enter a valid number.\")"
      ],
      "metadata": {
        "colab": {
          "base_uri": "https://localhost:8080/"
        },
        "id": "ltDgAJV_rnl_",
        "outputId": "3548e23b-1d6d-431f-b025-8103b3fe3a2e"
      },
      "execution_count": null,
      "outputs": [
        {
          "output_type": "stream",
          "name": "stdout",
          "text": [
            "Enter a number (or type 'exit' to quit): 4\n",
            "The number is positive.\n",
            "Enter a number (or type 'exit' to quit): 5\n",
            "The number is positive.\n",
            "Enter a number (or type 'exit' to quit): 6\n",
            "The number is positive.\n",
            "Enter a number (or type 'exit' to quit): 1\n",
            "The number is positive.\n",
            "Enter a number (or type 'exit' to quit): 3\n",
            "The number is positive.\n",
            "Enter a number (or type 'exit' to quit): 4\n",
            "The number is positive.\n",
            "Enter a number (or type 'exit' to quit): 4\n",
            "The number is positive.\n",
            "Enter a number (or type 'exit' to quit): 5\n",
            "The number is positive.\n",
            "Enter a number (or type 'exit' to quit): 6\n",
            "The number is positive.\n",
            "Enter a number (or type 'exit' to quit): exit\n",
            "Exiting the program.\n"
          ]
        }
      ]
    },
    {
      "cell_type": "code",
      "source": [
        "# Program to check if both numbers are even, odd, or one of each\n",
        "num1 = int(input(\"Enter the first number: \"))\n",
        "num2 = int(input(\"Enter the second number: \"))\n",
        "\n",
        "if num1 % 2 == 0 and num2 % 2 == 0:\n",
        "    print(\"Both numbers are even.\")\n",
        "elif num1 % 2 != 0 and num2 % 2 != 0:\n",
        "    print(\"Both numbers are odd.\")\n",
        "else:\n",
        "    print(\"One number is even, and the other is odd.\")\n"
      ],
      "metadata": {
        "colab": {
          "base_uri": "https://localhost:8080/"
        },
        "id": "CcghmYjTsB9o",
        "outputId": "3227401a-1c5b-49c6-927c-c184c888daa0"
      },
      "execution_count": null,
      "outputs": [
        {
          "output_type": "stream",
          "name": "stdout",
          "text": [
            "Enter the first number: 1\n",
            "Enter the second number: 2\n",
            "One number is even, and the other is odd.\n"
          ]
        }
      ]
    },
    {
      "cell_type": "code",
      "source": [
        "# Program to print binary, octal, and hexadecimal equivalents of an integer\n",
        "number = int(input(\"Enter an integer: \"))\n",
        "\n",
        "# Using a for loop to print the conversions\n",
        "for base in ['binary', 'octal', 'hexadecimal']:\n",
        "    if base == 'binary':\n",
        "        print(f\"Binary: {bin(number)[2:]}\")  # bin() converts to binary, slicing removes '0b'\n",
        "    elif base == 'octal':\n",
        "        print(f\"Octal: {oct(number)[2:]}\")  # oct() converts to octal, slicing removes '0o'\n",
        "    elif base == 'hexadecimal':\n",
        "        print(f\"Hexadecimal: {hex(number)[2:]}\")  # hex() converts to hexadecimal, slicing removes '0x'\n",
        "1"
      ],
      "metadata": {
        "colab": {
          "base_uri": "https://localhost:8080/"
        },
        "id": "snoyxBSKsEqw",
        "outputId": "aee48a3a-4adf-46bc-84c1-3859d2c5f025"
      },
      "execution_count": null,
      "outputs": [
        {
          "output_type": "stream",
          "name": "stdout",
          "text": [
            "Enter an integer: 20\n",
            "Binary: 10100\n",
            "Octal: 24\n",
            "Hexadecimal: 14\n"
          ]
        },
        {
          "output_type": "execute_result",
          "data": {
            "text/plain": [
              "1"
            ]
          },
          "metadata": {},
          "execution_count": 13
        }
      ]
    }
  ]
}